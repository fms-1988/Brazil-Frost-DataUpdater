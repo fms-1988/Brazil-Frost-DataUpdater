{
 "cells": [
  {
   "cell_type": "code",
   "execution_count": 1,
   "id": "90658eaa-d0fc-45b4-a168-f58ef34bdb12",
   "metadata": {},
   "outputs": [],
   "source": [
    "import pandas as pd\n",
    "from selenium import webdriver\n",
    "from webdriver_manager.firefox import GeckoDriverManager\n",
    "from selenium.webdriver.common.by import By\n",
    "import os\n",
    "import glob\n",
    "import time"
   ]
  },
  {
   "cell_type": "code",
   "execution_count": 2,
   "id": "6f4aef78",
   "metadata": {},
   "outputs": [],
   "source": [
    "#configurate download folder\n",
    "from selenium.webdriver.firefox.options import Options\n",
    "\n",
    "file_path = os.path.abspath(\"data/\")\n",
    "options = Options()\n",
    "options.set_preference(\"browser.download.folderList\", 2)\n",
    "options.set_preference(\"browser.download.manager.showWhenStarting\", False)\n",
    "options.set_preference(\"browser.download.dir\", file_path)\n",
    "options.set_preference(\"browser.helperApps.neverAsk.saveToDisk\", \"application/x-gzip\")"
   ]
  },
  {
   "cell_type": "code",
   "execution_count": 4,
   "id": "2fd66856-3e42-450f-93cb-4eac23eaa60c",
   "metadata": {},
   "outputs": [],
   "source": [
    "#open webpage\n",
    "driver = webdriver.Firefox(options=options)\n",
    "driver.get('https://portal.inmet.gov.br/paginas/geadas#')"
   ]
  },
  {
   "cell_type": "code",
   "execution_count": 5,
   "id": "fca22eb2-c691-4bcf-bc12-a0cb3edd6eaa",
   "metadata": {},
   "outputs": [],
   "source": [
    "def incert_data(date):\n",
    "    element1 = driver.find_element(By.ID, 'datepicker')\n",
    "    element1.clear() #exclude original data\n",
    "    element1.send_keys(date) #put new date"
   ]
  },
  {
   "cell_type": "code",
   "execution_count": 6,
   "id": "b070bbaa-4d69-4783-9bde-f7f3d193d3e3",
   "metadata": {},
   "outputs": [],
   "source": [
    "#select the kind of observation (1 = convencional; 2 = automática)\n",
    "def kind_of_observation(i):\n",
    "    #element2 = driver.find_element(By.XPATH, '/html/body/div[3]/div[1]/div/div/div/div[1]/div[1]') #convencional\n",
    "    element2 = driver.find_element(By.XPATH, '/html/body/div[3]/div[1]/div/div/div/div[1]/div['+str(i)+']') #automática\n",
    "    element2.click()\n",
    "    time.sleep(1.5)"
   ]
  },
  {
   "cell_type": "code",
   "execution_count": 7,
   "id": "eb0c882f-26df-4a18-9111-4e306ac930d1",
   "metadata": {},
   "outputs": [],
   "source": [
    "def search():\n",
    "    element3 = driver.find_element(By.ID, 'pesquisar')\n",
    "    element3.click()"
   ]
  },
  {
   "cell_type": "code",
   "execution_count": 8,
   "id": "5d3b5a3e",
   "metadata": {},
   "outputs": [],
   "source": [
    "from selenium.common.exceptions import NoSuchElementException, ElementNotVisibleException\n",
    "\n",
    "def download_():\n",
    "    try:\n",
    "        element4 = driver.find_element(By.CLASS_NAME, 'download')\n",
    "        element4.click()\n",
    "        time.sleep(3)\n",
    "    except (NoSuchElementException, ElementNotVisibleException):\n",
    "        # If the element isn't found or isn't visible, print an error message\n",
    "        #print(f\"No data available to this month\")\n",
    "        raise Exception(\"No_data_available\")\n"
   ]
  },
  {
   "cell_type": "code",
   "execution_count": 9,
   "id": "1bd25dd8",
   "metadata": {},
   "outputs": [],
   "source": [
    "#change the original name of download file to 'temporary_data.csv'\n",
    "def change_file_name():\n",
    "    original_file_path = os.path.join(file_path, \"Geadas*\")\n",
    "    original_file_path = glob.glob(original_file_path)[0]\n",
    "    new_file_path = os.path.join(file_path, \"new_data.csv\")\n",
    "    os.rename(original_file_path, new_file_path)\n",
    "\n",
    "            \n"
   ]
  },
  {
   "cell_type": "code",
   "execution_count": 14,
   "id": "03549901",
   "metadata": {},
   "outputs": [
    {
     "name": "stdout",
     "output_type": "stream",
     "text": [
      "2002-09-30\n",
      "2002-10-15\n"
     ]
    }
   ],
   "source": [
    "from datetime import date\n",
    "from datetime import datetime\n",
    "from dateutil.relativedelta import relativedelta\n",
    "\n",
    "new_data_path = os.path.join(file_path, \"new_data.csv\")\n",
    "if os.path.exists(new_data_path):\n",
    "    os.remove(new_data_path)\n",
    "\n",
    "data = pd.DataFrame()\n",
    "#initial_date_str = '01/06/2003'\n",
    "#initial_date = datetime.strptime(initial_date_str, '%d/%m/%Y').date()\n",
    "#new_date = initial_date + relativedelta(days=20)\n",
    "new_date = date.today() - relativedelta(years=21) \n",
    "for i in range(2):\n",
    "    # Initial date\n",
    "    # Add one month\n",
    "    new_date = new_date + relativedelta(days=15)\n",
    "    print(new_date)\n",
    "    new_date_str = new_date.strftime('%d/%m/%Y')\n",
    "    # incert date on the website\n",
    "    incert_data(new_date_str)\n",
    "    # chose between '1 = convencional' and '2 = automática'\n",
    "    kind_of_observation(1)\n",
    "    #click on 'pesquisar'\n",
    "    search()\n",
    "    #click on 'download'\n",
    "    #download_()\n",
    "    try:\n",
    "        download_()\n",
    "        change_file_name()\n",
    "        #read and concatenate files\n",
    "        new_data = pd.read_csv(os.path.join(file_path, \"new_data.csv\"), sep=';')\n",
    "        data = pd.concat([data, new_data], ignore_index=True)\n",
    "    except Exception as e:\n",
    "        #if str(e) == \"No_data_available\":\n",
    "        #    print(\"No_data_available\")\n",
    "        None\n",
    "\n",
    "\n",
    "    "
   ]
  },
  {
   "cell_type": "code",
   "execution_count": 15,
   "id": "6f914d3f",
   "metadata": {},
   "outputs": [],
   "source": [
    "#save data\n",
    "data_ = data.drop_duplicates()\n",
    "data.to_csv(os.path.join(file_path, \"data.csv\"), index=False)"
   ]
  },
  {
   "cell_type": "code",
   "execution_count": 8,
   "id": "8d05d5fb",
   "metadata": {},
   "outputs": [],
   "source": [
    "#save date of update\n",
    "last_update_dir = os.path.join(file_path, \"last_update.csv\")\n",
    "with open(last_update_dir, 'w') as file:\n",
    "    file.write(str(datetime.now()))"
   ]
  }
 ],
 "metadata": {
  "kernelspec": {
   "display_name": "Python 3 (ipykernel)",
   "language": "python",
   "name": "python3"
  },
  "language_info": {
   "codemirror_mode": {
    "name": "ipython",
    "version": 3
   },
   "file_extension": ".py",
   "mimetype": "text/x-python",
   "name": "python",
   "nbconvert_exporter": "python",
   "pygments_lexer": "ipython3",
   "version": "3.10.12"
  }
 },
 "nbformat": 4,
 "nbformat_minor": 5
}
